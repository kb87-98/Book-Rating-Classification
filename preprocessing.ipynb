{
 "cells": [
  {
   "cell_type": "code",
   "execution_count": 1,
   "id": "5568008a",
   "metadata": {
    "_cell_guid": "b1076dfc-b9ad-4769-8c92-a6c4dae69d19",
    "_uuid": "8f2839f25d086af736a60e9eeb907d3b93b6e0e5",
    "execution": {
     "iopub.execute_input": "2023-11-25T11:58:09.303054Z",
     "iopub.status.busy": "2023-11-25T11:58:09.301800Z",
     "iopub.status.idle": "2023-11-25T11:58:09.752510Z",
     "shell.execute_reply": "2023-11-25T11:58:09.751289Z"
    },
    "papermill": {
     "duration": 0.462051,
     "end_time": "2023-11-25T11:58:09.755483",
     "exception": false,
     "start_time": "2023-11-25T11:58:09.293432",
     "status": "completed"
    },
    "tags": []
   },
   "outputs": [
    {
     "name": "stdout",
     "output_type": "stream",
     "text": [
      "/kaggle/input/ratemeter/sample_submission.csv\n",
      "/kaggle/input/ratemeter/train.csv\n",
      "/kaggle/input/ratemeter/test.csv\n"
     ]
    }
   ],
   "source": [
    "# This Python 3 environment comes with many helpful analytics libraries installed\n",
    "# It is defined by the kaggle/python Docker image: https://github.com/kaggle/docker-python\n",
    "# For example, here's several helpful packages to load\n",
    "\n",
    "import numpy as np # linear algebra\n",
    "import pandas as pd # data processing, CSV file I/O (e.g. pd.read_csv)\n",
    "\n",
    "# Input data files are available in the read-only \"../input/\" directory\n",
    "# For example, running this (by clicking run or pressing Shift+Enter) will list all files under the input directory\n",
    "\n",
    "import os\n",
    "for dirname, _, filenames in os.walk('/kaggle/input'):\n",
    "    for filename in filenames:\n",
    "        print(os.path.join(dirname, filename))\n",
    "\n",
    "# You can write up to 20GB to the current directory (/kaggle/working/) that gets preserved as output when you create a version using \"Save & Run All\" \n",
    "# You can also write temporary files to /kaggle/temp/, but they won't be saved outside of the current session"
   ]
  },
  {
   "cell_type": "code",
   "execution_count": 2,
   "id": "fc2bd2ae",
   "metadata": {
    "execution": {
     "iopub.execute_input": "2023-11-25T11:58:09.771774Z",
     "iopub.status.busy": "2023-11-25T11:58:09.770837Z",
     "iopub.status.idle": "2023-11-25T11:58:17.883057Z",
     "shell.execute_reply": "2023-11-25T11:58:17.881811Z"
    },
    "papermill": {
     "duration": 8.12277,
     "end_time": "2023-11-25T11:58:17.886332",
     "exception": false,
     "start_time": "2023-11-25T11:58:09.763562",
     "status": "completed"
    },
    "tags": []
   },
   "outputs": [
    {
     "data": {
      "text/plain": [
       "(270000, 10)"
      ]
     },
     "execution_count": 2,
     "metadata": {},
     "output_type": "execute_result"
    }
   ],
   "source": [
    "df = pd.read_csv('/kaggle/input/ratemeter/test.csv')\n",
    "df.shape\n"
   ]
  },
  {
   "cell_type": "code",
   "execution_count": 3,
   "id": "63679791",
   "metadata": {
    "execution": {
     "iopub.execute_input": "2023-11-25T11:58:17.900206Z",
     "iopub.status.busy": "2023-11-25T11:58:17.899756Z",
     "iopub.status.idle": "2023-11-25T11:58:17.906064Z",
     "shell.execute_reply": "2023-11-25T11:58:17.904752Z"
    },
    "papermill": {
     "duration": 0.016368,
     "end_time": "2023-11-25T11:58:17.908674",
     "exception": false,
     "start_time": "2023-11-25T11:58:17.892306",
     "status": "completed"
    },
    "tags": []
   },
   "outputs": [],
   "source": [
    "pd.set_option(\"display.max_rows\", None)\n",
    "pd.set_option(\"display.max_columns\", None)\n",
    "pd.set_option(\"display.max_colwidth\", None)\n"
   ]
  },
  {
   "cell_type": "code",
   "execution_count": 4,
   "id": "fe83e9be",
   "metadata": {
    "execution": {
     "iopub.execute_input": "2023-11-25T11:58:17.922256Z",
     "iopub.status.busy": "2023-11-25T11:58:17.921870Z",
     "iopub.status.idle": "2023-11-25T11:58:18.483033Z",
     "shell.execute_reply": "2023-11-25T11:58:18.481794Z"
    },
    "papermill": {
     "duration": 0.571647,
     "end_time": "2023-11-25T11:58:18.486333",
     "exception": false,
     "start_time": "2023-11-25T11:58:17.914686",
     "status": "completed"
    },
    "tags": []
   },
   "outputs": [],
   "source": [
    "df['review_text'] = df['review_text'].str.lower()"
   ]
  },
  {
   "cell_type": "code",
   "execution_count": 5,
   "id": "d578f409",
   "metadata": {
    "execution": {
     "iopub.execute_input": "2023-11-25T11:58:18.499798Z",
     "iopub.status.busy": "2023-11-25T11:58:18.499354Z",
     "iopub.status.idle": "2023-11-25T11:58:19.103492Z",
     "shell.execute_reply": "2023-11-25T11:58:19.102149Z"
    },
    "papermill": {
     "duration": 0.614344,
     "end_time": "2023-11-25T11:58:19.106509",
     "exception": false,
     "start_time": "2023-11-25T11:58:18.492165",
     "status": "completed"
    },
    "tags": []
   },
   "outputs": [],
   "source": [
    "import re\n",
    "def remove_html_tags(text):\n",
    "    pattern = re.compile('<.*?>')\n",
    "    return pattern.sub(r'',text)\n",
    "\n",
    "df['review_text'] = df['review_text'].apply(remove_html_tags)"
   ]
  },
  {
   "cell_type": "code",
   "execution_count": 6,
   "id": "3cf36272",
   "metadata": {
    "execution": {
     "iopub.execute_input": "2023-11-25T11:58:19.120222Z",
     "iopub.status.busy": "2023-11-25T11:58:19.119809Z",
     "iopub.status.idle": "2023-11-25T11:58:28.239529Z",
     "shell.execute_reply": "2023-11-25T11:58:28.238195Z"
    },
    "papermill": {
     "duration": 9.130046,
     "end_time": "2023-11-25T11:58:28.242604",
     "exception": false,
     "start_time": "2023-11-25T11:58:19.112558",
     "status": "completed"
    },
    "tags": []
   },
   "outputs": [],
   "source": [
    "import re\n",
    "def remove_url(text):\n",
    "    pattern = re.compile(r'https?://\\S+|www\\.\\S+')\n",
    "    return pattern.sub(r'',text)\n",
    "\n",
    "df['review_text'] = df['review_text'].apply(remove_url)"
   ]
  },
  {
   "cell_type": "code",
   "execution_count": 7,
   "id": "f43b0642",
   "metadata": {
    "execution": {
     "iopub.execute_input": "2023-11-25T11:58:28.256939Z",
     "iopub.status.busy": "2023-11-25T11:58:28.256471Z",
     "iopub.status.idle": "2023-11-25T11:58:29.022747Z",
     "shell.execute_reply": "2023-11-25T11:58:29.021488Z"
    },
    "papermill": {
     "duration": 0.777386,
     "end_time": "2023-11-25T11:58:29.025952",
     "exception": false,
     "start_time": "2023-11-25T11:58:28.248566",
     "status": "completed"
    },
    "tags": []
   },
   "outputs": [],
   "source": [
    " df[\"review_text\"] = df[\"review_text\"].str.replace(\"\\n\", \"\")"
   ]
  },
  {
   "cell_type": "code",
   "execution_count": 8,
   "id": "d91d3c3a",
   "metadata": {
    "execution": {
     "iopub.execute_input": "2023-11-25T11:58:29.039531Z",
     "iopub.status.busy": "2023-11-25T11:58:29.039108Z",
     "iopub.status.idle": "2023-11-25T11:58:31.662637Z",
     "shell.execute_reply": "2023-11-25T11:58:31.661629Z"
    },
    "papermill": {
     "duration": 2.633276,
     "end_time": "2023-11-25T11:58:31.665283",
     "exception": false,
     "start_time": "2023-11-25T11:58:29.032007",
     "status": "completed"
    },
    "tags": []
   },
   "outputs": [],
   "source": [
    "import string\n",
    "exclude = string.punctuation\n",
    "\n",
    "def remove_punctuation(text):\n",
    "    return text.translate(str.maketrans('', '', exclude))\n",
    "\n",
    "df['review_text'] = df[\"review_text\"].apply(remove_punctuation)"
   ]
  },
  {
   "cell_type": "code",
   "execution_count": 9,
   "id": "78e4a23f",
   "metadata": {
    "execution": {
     "iopub.execute_input": "2023-11-25T11:58:31.680298Z",
     "iopub.status.busy": "2023-11-25T11:58:31.679849Z",
     "iopub.status.idle": "2023-11-25T14:01:17.027473Z",
     "shell.execute_reply": "2023-11-25T14:01:17.025827Z"
    },
    "papermill": {
     "duration": 7365.359797,
     "end_time": "2023-11-25T14:01:17.030980",
     "exception": false,
     "start_time": "2023-11-25T11:58:31.671183",
     "status": "completed"
    },
    "tags": []
   },
   "outputs": [],
   "source": [
    "from nltk.corpus import stopwords\n",
    "def remove_stopwords(text):\n",
    "    new_text = []\n",
    "    \n",
    "    for word in text.split():\n",
    "        if word in stopwords.words('english'):\n",
    "            new_text.append('')\n",
    "        else:\n",
    "            new_text.append(word)\n",
    "    x = new_text[:]\n",
    "    new_text.clear()\n",
    "    return \" \".join(x)\n",
    "\n",
    "df['review_text'] = df[\"review_text\"].apply(remove_stopwords)"
   ]
  },
  {
   "cell_type": "code",
   "execution_count": 10,
   "id": "fea753ea",
   "metadata": {
    "execution": {
     "iopub.execute_input": "2023-11-25T14:01:17.046282Z",
     "iopub.status.busy": "2023-11-25T14:01:17.045082Z",
     "iopub.status.idle": "2023-11-25T14:01:31.417755Z",
     "shell.execute_reply": "2023-11-25T14:01:31.416390Z"
    },
    "papermill": {
     "duration": 14.383255,
     "end_time": "2023-11-25T14:01:31.420806",
     "exception": false,
     "start_time": "2023-11-25T14:01:17.037551",
     "status": "completed"
    },
    "tags": []
   },
   "outputs": [],
   "source": [
    "import re\n",
    "def remove_emoji(text):\n",
    "    emoji_pattern = re.compile(\"[\"\n",
    "                           u\"\\U0001F600-\\U0001F64F\"  # emoticons\n",
    "                           u\"\\U0001F300-\\U0001F5FF\"  # symbols & pictographs\n",
    "                           u\"\\U0001F680-\\U0001F6FF\"  # transport & map symbols\n",
    "                           u\"\\U0001F1E0-\\U0001F1FF\"  # flags (iOS)\n",
    "                           u\"\\U00002702-\\U000027B0\"\n",
    "                           u\"\\U000024C2-\\U0001F251\"\n",
    "                           \"]+\", flags=re.UNICODE)\n",
    "    return emoji_pattern.sub(r'', text)\n",
    "\n",
    "df['review_text'] = df[\"review_text\"].apply(remove_emoji)"
   ]
  },
  {
   "cell_type": "code",
   "execution_count": 11,
   "id": "468941d6",
   "metadata": {
    "execution": {
     "iopub.execute_input": "2023-11-25T14:01:31.434957Z",
     "iopub.status.busy": "2023-11-25T14:01:31.433803Z",
     "iopub.status.idle": "2023-11-25T16:35:27.885840Z",
     "shell.execute_reply": "2023-11-25T16:35:27.884386Z"
    },
    "papermill": {
     "duration": 9236.462306,
     "end_time": "2023-11-25T16:35:27.888940",
     "exception": false,
     "start_time": "2023-11-25T14:01:31.426634",
     "status": "completed"
    },
    "tags": []
   },
   "outputs": [],
   "source": [
    "import spacy\n",
    "import pandas as pd\n",
    "\n",
    "# Load the English language model\n",
    "nlp = spacy.load(\"en_core_web_sm\")\n",
    "\n",
    "def lemmatize_text(text):\n",
    "    # Process the text using SpaCy\n",
    "    doc = nlp(text)\n",
    "\n",
    "    # Extract tokens and lemmatize each token\n",
    "    lemmas = [token.lemma_ for token in doc]\n",
    "\n",
    "    return lemmas\n",
    "\n",
    "# Apply the function to the 'review_text' column\n",
    "df['review_text'] = df['review_text'].apply(lemmatize_text)\n"
   ]
  },
  {
   "cell_type": "code",
   "execution_count": 12,
   "id": "61b8c3aa",
   "metadata": {
    "execution": {
     "iopub.execute_input": "2023-11-25T16:35:27.913639Z",
     "iopub.status.busy": "2023-11-25T16:35:27.912906Z",
     "iopub.status.idle": "2023-11-25T16:35:30.003573Z",
     "shell.execute_reply": "2023-11-25T16:35:30.002197Z"
    },
    "papermill": {
     "duration": 2.110518,
     "end_time": "2023-11-25T16:35:30.006402",
     "exception": false,
     "start_time": "2023-11-25T16:35:27.895884",
     "status": "completed"
    },
    "tags": []
   },
   "outputs": [],
   "source": [
    "data=pd.DataFrame(df)\n",
    "data['review_text'] = data['review_text'].apply(lambda lemmas: ' '.join(lemmas))\n"
   ]
  },
  {
   "cell_type": "code",
   "execution_count": 13,
   "id": "0e8a3555",
   "metadata": {
    "execution": {
     "iopub.execute_input": "2023-11-25T16:35:30.019947Z",
     "iopub.status.busy": "2023-11-25T16:35:30.019503Z",
     "iopub.status.idle": "2023-11-25T16:35:44.365731Z",
     "shell.execute_reply": "2023-11-25T16:35:44.364390Z"
    },
    "papermill": {
     "duration": 14.356498,
     "end_time": "2023-11-25T16:35:44.368769",
     "exception": false,
     "start_time": "2023-11-25T16:35:30.012271",
     "status": "completed"
    },
    "tags": []
   },
   "outputs": [],
   "source": [
    "data.to_csv(\"TestPreprossedData.csv\")"
   ]
  },
  {
   "cell_type": "code",
   "execution_count": null,
   "id": "7866a63e",
   "metadata": {
    "papermill": {
     "duration": 0.005459,
     "end_time": "2023-11-25T16:35:44.380173",
     "exception": false,
     "start_time": "2023-11-25T16:35:44.374714",
     "status": "completed"
    },
    "tags": []
   },
   "outputs": [],
   "source": []
  }
 ],
 "metadata": {
  "kaggle": {
   "accelerator": "none",
   "dataSources": [
    {
     "databundleVersionId": 6953956,
     "sourceId": 63658,
     "sourceType": "competition"
    }
   ],
   "dockerImageVersionId": 30589,
   "isGpuEnabled": false,
   "isInternetEnabled": true,
   "language": "python",
   "sourceType": "notebook"
  },
  "kernelspec": {
   "display_name": "Python 3",
   "language": "python",
   "name": "python3"
  },
  "language_info": {
   "codemirror_mode": {
    "name": "ipython",
    "version": 3
   },
   "file_extension": ".py",
   "mimetype": "text/x-python",
   "name": "python",
   "nbconvert_exporter": "python",
   "pygments_lexer": "ipython3",
   "version": "3.10.12"
  },
  "papermill": {
   "default_parameters": {},
   "duration": 16661.748193,
   "end_time": "2023-11-25T16:35:47.348365",
   "environment_variables": {},
   "exception": null,
   "input_path": "__notebook__.ipynb",
   "output_path": "__notebook__.ipynb",
   "parameters": {},
   "start_time": "2023-11-25T11:58:05.600172",
   "version": "2.4.0"
  }
 },
 "nbformat": 4,
 "nbformat_minor": 5
}
